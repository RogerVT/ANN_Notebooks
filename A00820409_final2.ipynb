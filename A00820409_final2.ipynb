{
 "cells": [
  {
   "cell_type": "markdown",
   "metadata": {},
   "source": [
    "# Proyecto Final Sistemas Inteligentes (2/2)\n",
    "### Sistemas Inteligentes \n",
    "### Eduardo Vazquez Tuz - A00820409\n",
    "\n",
    "El proyecto consistió en entrenar una red neuronal artificial con el propósito de reconocer dígitos escritos a mano. El dataset usado fue el Modified National Instrument Standards and Technology database (**MNIST**), el cuál consiste de 70,000 imágenes (60,000 de entrenamiento, 10,000 de prueba) de dígitos escritos a mano. El dataset fue accesado a través de la [interfaz de datasets provista por el API de Keras](https://www.tensorflow.org/api_docs/python/tf/keras/datasets/mnist/load_data). \n",
    "MNIST fue usado bajo los términos de la licencia [Creative Commons](https://creativecommons.org/licenses/by-sa/3.0/) bajo la cuál se encuentra registrado. \n",
    "\n",
    "Para facilitar la interpretación se dividió el proyecto en dos libretas; esta libreta comprende implementación del modelo. Para analizar el entorno de ejecución refiérase a [https://colab.research.google.com/drive/1QbGSDag2Ij1mi2twULkIv6iKmjxcOBvC?usp=sharing](esta libreta de Google Colab)"
   ]
  },
  {
   "cell_type": "code",
   "execution_count": null,
   "metadata": {},
   "outputs": [],
   "source": [
    "import tensorflow as tf\n",
    "import numpy as np\n",
    "import matplotlib.pyplot as plt\n",
    "from keras.utils import np_utils\n",
    "import os"
   ]
  },
  {
   "cell_type": "code",
   "execution_count": null,
   "metadata": {},
   "outputs": [],
   "source": [
    "#descargando el dataset a través de Keras\n",
    "(train_data, train_labels), (test_data, test_labels) = tf.keras.datasets.mnist.load_data()"
   ]
  },
  {
   "cell_type": "code",
   "execution_count": null,
   "metadata": {},
   "outputs": [],
   "source": [
    "print(\"Train_data shape\", train_data.shape)\n",
    "print(\"Train_label shape\", train_labels.shape)\n",
    "print(\"Test_data shape\", test_data.shape)\n",
    "print(\"Test_label shape\", test_labels.shape)"
   ]
  },
  {
   "cell_type": "code",
   "execution_count": null,
   "metadata": {},
   "outputs": [],
   "source": [
    "#convirtiendo los datos a arreglos de vectores unidimensionales\n",
    "\n",
    "train_data = train_data.reshape(60000, 784)\n",
    "test_data = test_data.reshape(10000, 784)\n",
    "train_data = train_data.astype('float32')\n",
    "test_data = test_data.astype('float32')\n",
    "\n",
    "#normalizando los sets\n",
    "\n",
    "train_data = train_data/255\n",
    "test_data = test_data/255\n",
    "\n",
    "#un dato de salida como ejemplo\n",
    "train_data[0]"
   ]
  },
  {
   "cell_type": "code",
   "execution_count": null,
   "metadata": {},
   "outputs": [],
   "source": [
    "#imprimiendo las etiquetas \n",
    "print(np.unique(train_labels, return_counts=True))"
   ]
  },
  {
   "cell_type": "code",
   "execution_count": null,
   "metadata": {},
   "outputs": [],
   "source": [
    "#convirtiendo las etiquetas a datos categoricos\n",
    "\n",
    "#n = 10 es el número de clases\n",
    "train_labels = np_utils.to_categorical(train_labels,10)\n",
    "test_labels = np_utils.to_categorical(test_labels, 10)"
   ]
  },
  {
   "cell_type": "code",
   "execution_count": null,
   "metadata": {},
   "outputs": [],
   "source": [
    "#definiendo la arquitectura del modelo \n",
    "\n",
    "model = tf.keras.Sequential()\n",
    "model.add(tf.keras.layers.Dense(512, input_shape=(784,)))\n",
    "model.add(tf.keras.layers.Activation('relu'))\n",
    "model.add(tf.keras.layers.Dropout(0.2))\n",
    "\n",
    "model.add(tf.keras.layers.Dense(512))\n",
    "model.add(tf.keras.layers.Activation('relu'))\n",
    "model.add(tf.keras.layers.Dropout(0.2))\n",
    "\n",
    "model.add(tf.keras.layers.Dense(10))\n",
    "model.add(tf.keras.layers.Activation('softmax'))\n",
    "\n",
    "#imprimiendo los detalles del modelo\n",
    "model.summary()"
   ]
  },
  {
   "cell_type": "code",
   "execution_count": null,
   "metadata": {},
   "outputs": [],
   "source": [
    "#compilando y entrenando\n",
    "model.compile(loss='categorical_crossentropy', metrics=['accuracy','mse'], optimizer='adam')\n",
    "history = model.fit(train_data, train_labels, batch_size=128, epochs=20, validation_data=(test_data,test_labels))"
   ]
  },
  {
   "cell_type": "code",
   "execution_count": null,
   "metadata": {},
   "outputs": [],
   "source": [
    "#ploteando las metricas\n",
    "\n",
    "fig = plt.figure(figsize=(20,15))\n",
    "plt.subplot(2,1,1)\n",
    "plt.plot(history.history['accuracy'])\n",
    "plt.plot(history.history['val_accuracy'])\n",
    "plt.title('Accuracy')\n",
    "plt.ylabel('accuracy')\n",
    "plt.xlabel('epoch')\n",
    "plt.legend(['train', 'test'], loc = 'lower right')\n",
    "\n",
    "\n",
    "plt.subplot(2,1,2)\n",
    "plt.plot(history.history['loss'])\n",
    "plt.plot(history.history['val_loss'])\n",
    "plt.title('Loss')\n",
    "plt.ylabel('loss')\n",
    "plt.xlabel('epoch')\n",
    "plt.legend(['train', 'test'], loc= 'upper right')\n",
    "\n",
    "plt.tight_layout()\n",
    "fig.show()"
   ]
  },
  {
   "cell_type": "code",
   "execution_count": null,
   "metadata": {},
   "outputs": [],
   "source": [
    "#almacenando el modelo\n",
    "\n",
    "dir_name = './proyecto_mnist.h5'\n",
    "model.save(dir_name)\n",
    "print(\"Salvado en \" + dir_name)"
   ]
  },
  {
   "cell_type": "code",
   "execution_count": null,
   "metadata": {},
   "outputs": [],
   "source": [
    "#comprobando que todo esté bien \n",
    "\n",
    "test_model = tf.keras.models.load_model(dir_name)\n",
    "metricas = test_model.evaluate(test_data, test_labels)"
   ]
  }
 ],
 "metadata": {
  "kernelspec": {
   "display_name": "Python 3",
   "language": "python",
   "name": "python3"
  },
  "language_info": {
   "codemirror_mode": {
    "name": "ipython",
    "version": 3
   },
   "file_extension": ".py",
   "mimetype": "text/x-python",
   "name": "python",
   "nbconvert_exporter": "python",
   "pygments_lexer": "ipython3",
   "version": "3.7.2"
  }
 },
 "nbformat": 4,
 "nbformat_minor": 4
}
